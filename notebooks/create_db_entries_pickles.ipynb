{
  "nbformat": 4,
  "nbformat_minor": 0,
  "metadata": {
    "colab": {
      "name": "create_db_entries_pickles.ipynb",
      "provenance": [],
      "collapsed_sections": [],
      "machine_shape": "hm"
    },
    "kernelspec": {
      "name": "python3",
      "display_name": "Python 3"
    },
    "accelerator": "GPU"
  },
  "cells": [
    {
      "cell_type": "markdown",
      "metadata": {
        "id": "EPdV7Ar-pVaA",
        "colab_type": "text"
      },
      "source": [
        "# Create CORD19 MongoDB Database Entries\n",
        "\n",
        "[![Open In Colab](https://colab.research.google.com/assets/colab-badge.svg)](https://colab.research.google.com/github/gsarti/covid-paper-browser/blob/master/notebooks/create_db_entries_pickles.ipynb)\n",
        "\n",
        "This notebook is intended to be run on Google Colab or other GPU providers platforms as a step-by-step replacement for the `create_db` script that can be run locally and don't require excessive amounts of time.\n",
        "\n",
        "**Disclaimer**: The procedure requires having access to a Google Drive account with at least 13 GB of storage available. The total runtime in Colab is approximately  3 hours.\n",
        "\n",
        "## Steps\n",
        "\n",
        "1. Open this notebook in Colab by clicking the button above.\n",
        "\n",
        "2. Connect to a GPU runtime and mount your Drive (on the left, Files -> Mount Drive). You should see the path `drive/My Drive` containing your files on the left section.\n",
        "\n",
        "3. Run the cells below. Those will download data, install Python libraries, define methods and ultimately run the `create_db` method for the two database entry types. Instead of actually creating the database, this saves the database entries in `X` files named `{out_name}X.pkl` on your Google Drive (default is one file `overview0.pkl` for overview entries and five files `detailsX.pkl` for details). The total size is approx 12.45 GB for all details entries (including both `title_abstract_embeddings` and `paragraphs_embeddings`), 364 MB for overview entries only. The latter are also way faster (10 min 31 sec for me).\n",
        "\n",
        "4. Download the pickled files on your PC.\n",
        "\n",
        "5. Run a MongoDB session in the background, open a Python session in the same folder of the downloaded files and run:\n",
        "\n",
        "```python\n",
        "import os\n",
        "from pymongo import MongoClient\n",
        "\n",
        "YOUR_DB_NAME = 'coviddb'\n",
        "YOUR_OVERVIEW_COLLECTION_NAME = 'cord19scibertoverview'\n",
        "YOUR_DETAILS_COLLECTION_NAME = 'cord19scibertdetails'\n",
        "YOUR_OVERVIEW_OUTNAME = 'overview'\n",
        "YOUR_DETAILS_OUTNAME = 'details'\n",
        "\n",
        "overview_files = [f for f in os.listdir() if f.startswith(YOUR_DETAILS_OUTNAME)]\n",
        "details_files = [f for f in os.listdir() if f.startswith(YOUR_OVERVIEW_OUTNAME)]\n",
        "client = MongoClient()\n",
        "db = client[YOUR_DB_NAME]\n",
        "overview_col = db[YOUR_OVERVIEW_COLLECTION_NAME]\n",
        "details_col = db[YOUR_DETAILS_COLLECTION_NAME]\n",
        "for fname in tqdm(overview_files):\n",
        "    with open(fname, 'rb') as f:\n",
        "        entries = pickle.load(f)\n",
        "    overview_col.insert_many(entries)\n",
        "for fname in tqdm(details_files):\n",
        "    with open(fname, 'rb') as f:\n",
        "        entries = pickle.load(f)\n",
        "    details_col.insert_many(entries)\n",
        "```\n",
        "\n",
        "Notice that doing this may cannibalize your resources for the Details entries (it did with me on a 16GB RAM machine), so consider doing this by loading and inserting one pickled file at a time.\n"
      ]
    },
    {
      "cell_type": "markdown",
      "metadata": {
        "id": "aMW-IH8bwddy",
        "colab_type": "text"
      },
      "source": [
        "## Download Data from AI2 Servers"
      ]
    },
    {
      "cell_type": "code",
      "metadata": {
        "id": "C4jMQZiQu4l5",
        "colab_type": "code",
        "colab": {}
      },
      "source": [
        "%%bash\n",
        "mkdir data\n",
        "\n",
        "DATE=2020-03-27\n",
        "DATA_DIR=data\n",
        "\n",
        "wget https://ai2-semanticscholar-cord-19.s3-us-west-2.amazonaws.com/\"${DATE}\"/comm_use_subset.tar.gz -P \"${DATA_DIR}\"\n",
        "wget https://ai2-semanticscholar-cord-19.s3-us-west-2.amazonaws.com/\"${DATE}\"/noncomm_use_subset.tar.gz -P \"${DATA_DIR}\"\n",
        "wget https://ai2-semanticscholar-cord-19.s3-us-west-2.amazonaws.com/\"${DATE}\"/custom_license.tar.gz -P \"${DATA_DIR}\"\n",
        "wget https://ai2-semanticscholar-cord-19.s3-us-west-2.amazonaws.com/\"${DATE}\"/biorxiv_medrxiv.tar.gz -P \"${DATA_DIR}\"\n",
        "wget https://ai2-semanticscholar-cord-19.s3-us-west-2.amazonaws.com/\"${DATE}\"/metadata.csv -P \"${DATA_DIR}\"\n",
        "\n",
        "tar -zxvf \"${DATA_DIR}\"/comm_use_subset.tar.gz -C \"${DATA_DIR}\"\n",
        "tar -zxvf \"${DATA_DIR}\"/noncomm_use_subset.tar.gz -C \"${DATA_DIR}\"\n",
        "tar -zxvf \"${DATA_DIR}\"/custom_license.tar.gz -C \"${DATA_DIR}\"\n",
        "tar -zxvf \"${DATA_DIR}\"/biorxiv_medrxiv.tar.gz -C \"${DATA_DIR}\""
      ],
      "execution_count": 0,
      "outputs": []
    },
    {
      "cell_type": "markdown",
      "metadata": {
        "id": "_SrfClq0wlD0",
        "colab_type": "text"
      },
      "source": [
        "## Install Python Libraries"
      ]
    },
    {
      "cell_type": "code",
      "metadata": {
        "id": "6nKJBz3JGyV9",
        "colab_type": "code",
        "colab": {}
      },
      "source": [
        "%%capture\n",
        "!pip install -U transformers pandas sentence_transformers tqdm"
      ],
      "execution_count": 0,
      "outputs": []
    },
    {
      "cell_type": "markdown",
      "metadata": {
        "id": "BBNGOlN8xAtx",
        "colab_type": "text"
      },
      "source": [
        "## Define the PaperDatabaseEntry Classes (Overview & Details)"
      ]
    },
    {
      "cell_type": "code",
      "metadata": {
        "id": "fFtFYSo7xdO-",
        "colab_type": "code",
        "colab": {}
      },
      "source": [
        "class PaperDatabaseEntryOverview:\n",
        "    \"\"\" Defines the PaperDatabaseEntryOverview object stored in the database used to retrieve the list of papers. \"\"\"\n",
        "    def __init__(self, x):\n",
        "        self.cord_id = x['cord_uid']\n",
        "        self.title = x['title'] if x['title'] not in FILTER_TITLES else ''\n",
        "        self.license = x['license']\n",
        "        self.abstract = x['abstract'] if x['abstract'] not in FILTER_ABSTRACTS else ''\n",
        "        self.publish_time = x['publish_time']\n",
        "        self.authors = x['authors'].split('; ')\n",
        "        self.journal = x['journal']\n",
        "        self.title_abstract_embeddings = []\n",
        "\n",
        "    def as_dict(self):\n",
        "        return {\n",
        "            'cord_id': self.cord_id,\n",
        "            'title': self.title,\n",
        "            'license': self.license,\n",
        "            'abstract': self.abstract,\n",
        "            'publish_time': self.publish_time,\n",
        "            'authors': self.authors,\n",
        "            'journal': self.journal,\n",
        "            'title_abstract_embeddings': self.title_abstract_embeddings,\n",
        "        }\n",
        "\n",
        "    def compute_title_abstract_embeddings(self, model):\n",
        "        if self.title != '' or self.abstract != '':\n",
        "            title_abstract = self.title + ' ' + self.abstract\n",
        "            embedding = model.encode([title_abstract], show_progress_bar=False)\n",
        "            self.title_abstract_embeddings = embedding[0].tolist()\n",
        "\n",
        "\n",
        "class PaperDatabaseEntryDetails(PaperDatabaseEntryOverview):\n",
        "    \"\"\" Defines the PaperDatabaseEntryDetails object stored in the database containing additional information for single-paper view. \"\"\"\n",
        "    def __init__(self, x):\n",
        "        super().__init__(x)\n",
        "        self.url = x['url']\n",
        "        self.sha = x['sha'].split(';')[0]\n",
        "        self.source = x['source_x']\n",
        "        self.doi = x['doi']\n",
        "        self.pmc_id = x['pmcid']\n",
        "        self.pubmed_id = x['pubmed_id']\n",
        "        self.microsoft_id = x['Microsoft Academic Paper ID']\n",
        "        self.who_id = x['WHO #Covidence']\n",
        "        self.paragraphs = [] # List of tuples (section_name, text)\n",
        "        self.bibliography = [] # List of dictionaries\n",
        "        self.paragraphs_embeddings = []\n",
        "\n",
        "    def as_dict(self):\n",
        "        return {\n",
        "            'cord_id': self.cord_id,\n",
        "            'url': self.url,\n",
        "            'sha': self.sha,\n",
        "            'title': self.title,\n",
        "            'source': self.source,\n",
        "            'doi': self.doi,\n",
        "            'pmc_id': self.pmc_id,\n",
        "            'pubmed_id': self.pubmed_id,\n",
        "            'license': self.license,\n",
        "            'abstract': self.abstract,\n",
        "            'publish_time': self.publish_time,\n",
        "            'authors': self.authors,\n",
        "            'journal': self.journal,\n",
        "            'microsoft_id': self.microsoft_id,\n",
        "            'who_id': self.who_id,\n",
        "            'paragraphs': self.paragraphs,\n",
        "            'bibliography': self.bibliography,\n",
        "            'title_abstract_embeddings': self.title_abstract_embeddings,\n",
        "            'paragraphs_embeddings': self.paragraphs_embeddings,\n",
        "        }\n",
        "    \n",
        "    def compute_paragraphs_embeddings(self, model):\n",
        "        if len(self.paragraphs) > 0:\n",
        "            paragraphs_text = [tup[1] for tup in self.paragraphs]\n",
        "            paragraph_embeddings = model.encode(paragraphs_text, show_progress_bar=False)\n",
        "            self.paragraphs_embeddings = [e.tolist() for e in paragraph_embeddings]\n",
        "\n",
        "FILTER_TITLES = ['Index', 'Subject Index', 'Subject index', 'Author index', 'Contents', \n",
        "        'Articles of Significant Interest Selected from This Issue by the Editors',\n",
        "        'Information for Authors', 'Graphical contents list', 'Table of Contents',\n",
        "        'In brief', 'Preface', 'Editorial Board', 'Author Index',\n",
        "        'Volume Contents', 'Research brief', 'Abstracts', 'Keyword index',\n",
        "        'In This Issue', 'Department of Error', 'Contents list', 'Highlights of this issue',\n",
        "        'Abbreviations', 'Introduction', 'Cumulative Index', 'Positions available',\n",
        "        'Index of Authors', 'Editorial', 'Journal Watch', 'QUIZ CORNER', 'Foreword', 'Table of contents',\n",
        "        'Quiz Corner', 'INDEX', 'Bibliography of the current world literature',\n",
        "        'Index of Subjects', '60 Seconds', 'Contributors',\n",
        "        'Public Health Watch', 'Commentary', 'Chapter 1 Introduction',\n",
        "        'Facts and ideas from anywhere', 'Erratum', 'Contents of Volume', 'Patent reports',\n",
        "        'Oral presentations', 'Abkürzungen', 'Abstracts cont.', 'Related elsevier virology titles contents alert',\n",
        "        'Keyword Index', 'Volume contents', 'Articles of Significant Interest in This Issue',\n",
        "        'Appendix', 'Abkürzungsverzeichnis', 'List of Abbreviations', 'Editorial Board and Contents',\n",
        "        'Instructions for Authors', 'Corrections', 'II. Sachverzeichnis', '1 Introduction',  'List of abbreviations',\n",
        "        'Response', 'Feedback', 'Poster Sessions', 'News Briefs', 'Commentary on the Feature Article',\n",
        "        'Papers to Appear in Forthcoming Issues', 'TOC', 'Glossary', 'Letter from the editor', 'Croup',\n",
        "        'Acronyms and Abbreviations', 'Highlights', 'Forthcoming papers', 'Poster presentations', 'Authors',\n",
        "        'Journal Roundup', 'Index of authors', 'Table des mots-clés', 'Posters', 'Cumulative Index 2004', \n",
        "        'A Message from the Editor', 'Contents and Editorial Board', 'SUBJECT INDEX', 'Contents page 1',\n",
        "]\n",
        "\n",
        "FILTER_ABSTRACTS = ['Unknown', '[Image: see text]']"
      ],
      "execution_count": 0,
      "outputs": []
    },
    {
      "cell_type": "markdown",
      "metadata": {
        "id": "yFtEsGLvyODW",
        "colab_type": "text"
      },
      "source": [
        "## Methods to Load Model and Rank Abstracts/Paragraphs"
      ]
    },
    {
      "cell_type": "code",
      "metadata": {
        "id": "QaKsgCl-ADwG",
        "colab_type": "code",
        "colab": {}
      },
      "source": [
        "import numpy as np\n",
        "from scipy.spatial.distance import cdist\n",
        "from sentence_transformers import models, SentenceTransformer\n",
        "\n",
        "\n",
        "def load_sentence_transformer(\n",
        "    name: str = 'gsarti/scibert-nli', \n",
        "    max_seq_length: int  = 128, \n",
        "    do_lower_case: bool  = True) -> SentenceTransformer:\n",
        "    \"\"\" Loads a SentenceTransformer from HuggingFace AutoModel bestiary \"\"\"\n",
        "    word_embedding_model = models.BERT(\n",
        "            'gsarti/scibert-nli',\n",
        "            max_seq_length=128,\n",
        "            do_lower_case=True\n",
        "        )\n",
        "    pooling_model = models.Pooling(word_embedding_model.get_word_embedding_dimension(),\n",
        "            pooling_mode_mean_tokens=True,\n",
        "            pooling_mode_cls_token=False,\n",
        "            pooling_mode_max_tokens=False\n",
        "        )\n",
        "    return SentenceTransformer(modules=[word_embedding_model, pooling_model])\n",
        "\n",
        "\n",
        "def match_query(\n",
        "    query: str,\n",
        "    model: SentenceTransformer,\n",
        "    corpus: list,\n",
        "    corpus_embed: list,\n",
        "    top_k: int = 5) -> list:\n",
        "    \"\"\" Matches query and paragraph embeddings, returning top scoring paragraphs ids and scores \"\"\"\n",
        "    query_embed = model.encode([query], show_progress_bar=False)[0].reshape(1,-1)\n",
        "    distances = 1 - cdist(query_embed, corpus_embed, \"cosine\")\n",
        "    results = zip(corpus, distances.reshape(-1,1))\n",
        "    results = sorted(results, key=lambda x: x[1], reverse=True)\n",
        "    return results[:top_k]"
      ],
      "execution_count": 0,
      "outputs": []
    },
    {
      "cell_type": "markdown",
      "metadata": {
        "id": "e2QrpppFytiv",
        "colab_type": "text"
      },
      "source": [
        "## Methods to Create Database Entries and Pickle Files"
      ]
    },
    {
      "cell_type": "code",
      "metadata": {
        "id": "xbm_Yv_k_et2",
        "colab_type": "code",
        "colab": {}
      },
      "source": [
        "import os\n",
        "import sys\n",
        "import json\n",
        "import pandas as pd\n",
        "import numpy as np\n",
        "import pickle\n",
        "from tqdm import tqdm\n",
        "from sentence_transformers import SentenceTransformer\n",
        "\n",
        "\n",
        "def create_db_entry(\n",
        "    data_path: str,\n",
        "    csv_entry: dict, \n",
        "    model: SentenceTransformer,\n",
        "    data_type):\n",
        "    \"\"\" Creates a single DB entry from a csv entry using the model for creating embeddings \"\"\"\n",
        "    db_entry = data_type(csv_entry)\n",
        "    db_entry.compute_title_abstract_embeddings(model)\n",
        "    if csv_entry['has_full_text'] == True and data_type == PaperDatabaseEntryDetails:\n",
        "        foldername = csv_entry['full_text_file']\n",
        "        # Format is e.g. 'data/biorxiv_medrxiv/file.json'\n",
        "        path = os.path.join('data', foldername, f'{db_entry.sha}.json')\n",
        "        file = json.load(open(path, 'r'))\n",
        "        paragraphs = []\n",
        "        # Order is: abstracts, body, back_matter, ref_entries\n",
        "        parts = [file['abstract'], file['body_text'], file['back_matter']]\n",
        "        for part in parts:\n",
        "            for paragraph in part:\n",
        "                paragraphs.append((paragraph['section'], paragraph['text']))\n",
        "        for key, paragraph in file['ref_entries'].items():\n",
        "            paragraphs.append((paragraph['type'].title(), paragraph['text']))\n",
        "        db_entry.paragraphs = paragraphs\n",
        "        db_entry.compute_paragraphs_embeddings(model)\n",
        "        db_entry.bibliography = [file['bib_entries'][entry] for entry in file['bib_entries']]\n",
        "    return db_entry\n",
        "\n",
        "\n",
        "def create_pickles(\n",
        "    input_file_path: str = 'data/metadata.csv',\n",
        "    out_name: str = 'db_entries',\n",
        "    model_name: str = 'gsarti/scibert-nli',\n",
        "    n_batches: int = 1,\n",
        "    data_type = PaperDatabaseEntryOverview) -> None:\n",
        "    \"\"\" Creates a new Mongo database with entries from input_file_path, using model model_name \"\"\"\n",
        "    model = load_sentence_transformer(model_name)\n",
        "    df = pd.read_csv(input_file_path)\n",
        "    df = df.fillna('')\n",
        "    df_batches = np.array_split(df, n_batches)\n",
        "    inserted = 0\n",
        "    for i, batch in enumerate(df_batches):\n",
        "        print(f'Processing batch {i}')\n",
        "        db_entries = []\n",
        "        for _, row in tqdm(batch.iterrows()):\n",
        "            db_entry = create_db_entry('data', row, model, data_type)\n",
        "            # Only add entries with at least one between title and abstract to enable search\n",
        "            if len(db_entry.title_abstract_embeddings) > 0:\n",
        "                db_entries.append(db_entry.as_dict())\n",
        "        print('Saving entries to', f'drive/My Drive/{out_name}{i}.pkl')\n",
        "        with open(f'drive/My Drive/{out_name}{i}.pkl', 'wb') as f:\n",
        "            pickle.dump(db_entries, f)\n",
        "        inserted += len(db_entries)\n",
        "        print(f'Inserted {len(db_entries)} new entries.')\n",
        "    print(f'Done. {len(df)} processed, {inserted} inserted.')"
      ],
      "execution_count": 0,
      "outputs": []
    },
    {
      "cell_type": "markdown",
      "metadata": {
        "id": "F07UKeqxy0RG",
        "colab_type": "text"
      },
      "source": [
        "## Run the Creation of Pickle Files\n",
        "\n",
        "This is the part that will take approximately 3 hours to run for PaperDatabaseEntryDetails objects, 11 minutes for PaperDatabaseEntryOverview ones"
      ]
    },
    {
      "cell_type": "code",
      "metadata": {
        "id": "ug1sJ691u6l-",
        "colab_type": "code",
        "outputId": "b880d35b-6eb3-4e1b-805d-73695cd8275a",
        "colab": {
          "base_uri": "https://localhost:8080/",
          "height": 104
        }
      },
      "source": [
        "create_pickles(\n",
        "    input_file_path='data/metadata.csv',\n",
        "    out_name='overview',\n",
        "    model_name='gsarti/scibert-nli'\n",
        "    n_batches=1,\n",
        "    data_type=PaperDatabaseEntryOverview\n",
        ")"
      ],
      "execution_count": 16,
      "outputs": [
        {
          "output_type": "stream",
          "text": [
            "5it [00:00, 48.20it/s]"
          ],
          "name": "stderr"
        },
        {
          "output_type": "stream",
          "text": [
            "Processing batch 0\n"
          ],
          "name": "stdout"
        },
        {
          "output_type": "stream",
          "text": [
            "45774it [10:31, 72.52it/s]\n"
          ],
          "name": "stderr"
        },
        {
          "output_type": "stream",
          "text": [
            "Saving entries to drive/My Drive/overview0.pkl\n",
            "Inserted 45444 new entries.\n",
            "Done. 45774 processed, 45444 inserted.\n"
          ],
          "name": "stdout"
        }
      ]
    },
    {
      "cell_type": "code",
      "metadata": {
        "id": "Yl4_rnu4T-Bh",
        "colab_type": "code",
        "colab": {}
      },
      "source": [
        "create_pickles(\n",
        "    input_file_path='data/metadata.csv',\n",
        "    out_name='details',\n",
        "    model_name='gsarti/scibert-nli'\n",
        "    n_batches=5,\n",
        "    data_type=PaperDatabaseEntryDetails\n",
        ")"
      ],
      "execution_count": 0,
      "outputs": []
    },
    {
      "cell_type": "markdown",
      "metadata": {
        "id": "VMmWY8c6zL0y",
        "colab_type": "text"
      },
      "source": [
        "## Check that Files were Generated Correctly\n",
        "\n",
        "You should see roughly 10 GB here"
      ]
    },
    {
      "cell_type": "code",
      "metadata": {
        "id": "ibWC3xN3CAaP",
        "colab_type": "code",
        "outputId": "de1c337e-48ff-4e09-c993-54aad175f959",
        "colab": {
          "base_uri": "https://localhost:8080/",
          "height": 34
        }
      },
      "source": [
        "!du -h \"drive/My Drive/overview\"*"
      ],
      "execution_count": 17,
      "outputs": [
        {
          "output_type": "stream",
          "text": [
            "364M\tdrive/My Drive/overview0.pkl\n"
          ],
          "name": "stdout"
        }
      ]
    },
    {
      "cell_type": "code",
      "metadata": {
        "id": "vskMU6k4Ub-p",
        "colab_type": "code",
        "colab": {}
      },
      "source": [
        "!du -h \"drive/My Drive/details\"*"
      ],
      "execution_count": 0,
      "outputs": []
    }
  ]
}