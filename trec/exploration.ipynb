{
 "cells": [
  {
   "cell_type": "markdown",
   "metadata": {},
   "source": [
    "# [TREC - COVID Data](https://ir.nist.gov/covidSubmit/index.html)\n",
    "Using [round 2](https://ir.nist.gov/covidSubmit/round2.html)"
   ]
  },
  {
   "cell_type": "markdown",
   "metadata": {},
   "source": [
    "## Dataset\n",
    "\n",
    "The dataset is composed by three pieces\n",
    "\n",
    "- [COVID-19 papers](https://www.semanticscholar.org/cord19) provided by Allen Institute for Artificial Intelligence\n",
    "- [list of valid ids](https://ir.nist.gov/covidSubmit/data/docids-rnd2.txt). So, all the documents we can use\n",
    "- [topic set](https://ir.nist.gov/covidSubmit/data/topics-rnd2.xml), a xml file with different questions about COVID-19\n",
    "\n",
    "The `cord_uid` column is the **only valid** id to identify a paper.\n",
    "\n",
    "An entry point in the topic set looks like:\n",
    "\n",
    "\n",
    "```xml\n",
    " <topic number=\"1000\">\n",
    "      <query>covid effects, muggles vs. wizards</query>\n",
    "      <question>Are wizards and muggles affected differently by COVID-19?</question>\n",
    "      <narrative> \n",
    "      Seeking comparison of specific outcomes regarding infections in\n",
    "      wizards vs. muggles population groups.\n",
    "      </narrative>\n",
    " </topic>\n",
    "```"
   ]
  },
  {
   "cell_type": "markdown",
   "metadata": {},
   "source": [
    "### Topic set"
   ]
  },
  {
   "cell_type": "code",
   "execution_count": 24,
   "metadata": {},
   "outputs": [],
   "source": [
    "import requests\n",
    "import xmltodict\n",
    "import json\n",
    "import pprint\n",
    "\n",
    "TOPIC_SET_URL = 'https://ir.nist.gov/covidSubmit/data/topics-rnd2.xml'\n",
    "topic_set_xml = requests.get(TOPIC_SET_URL).text\n",
    "\n",
    "topic_set = xmltodict.parse(topic_set_xml)\n",
    "\n",
    "topics = topic_set['topics']['topic']"
   ]
  },
  {
   "cell_type": "markdown",
   "metadata": {},
   "source": [
    "A single topic"
   ]
  },
  {
   "cell_type": "code",
   "execution_count": 29,
   "metadata": {
    "scrolled": false
   },
   "outputs": [
    {
     "data": {
      "text/plain": [
       "OrderedDict([('@number', '1'),\n",
       "             ('query', 'coronavirus origin'),\n",
       "             ('question', 'what is the origin of COVID-19'),\n",
       "             ('narrative',\n",
       "              \"seeking range of information about the SARS-CoV-2 virus's origin, including its evolution, animal source, and first transmission into humans\")])"
      ]
     },
     "execution_count": 29,
     "metadata": {},
     "output_type": "execute_result"
    }
   ],
   "source": [
    "topics[0]"
   ]
  },
  {
   "cell_type": "markdown",
   "metadata": {},
   "source": [
    "All the questions"
   ]
  },
  {
   "cell_type": "code",
   "execution_count": 25,
   "metadata": {},
   "outputs": [
    {
     "name": "stdout",
     "output_type": "stream",
     "text": [
      "['coronavirus origin',\n",
      " 'coronavirus response to weather changes',\n",
      " 'coronavirus immunity',\n",
      " 'how do people die from the coronavirus',\n",
      " 'animal models of COVID-19',\n",
      " 'coronavirus test rapid testing',\n",
      " 'serological tests for coronavirus',\n",
      " 'coronavirus under reporting',\n",
      " 'coronavirus in Canada',\n",
      " 'coronavirus social distancing impact',\n",
      " 'coronavirus hospital rationing',\n",
      " 'coronavirus quarantine',\n",
      " 'how does coronavirus spread',\n",
      " 'coronavirus super spreaders',\n",
      " 'coronavirus outside body',\n",
      " 'how long does coronavirus survive on surfaces',\n",
      " 'coronavirus clinical trials',\n",
      " 'masks prevent coronavirus',\n",
      " 'what alcohol sanitizer kills coronavirus',\n",
      " 'coronavirus and ACE inhibitors',\n",
      " 'coronavirus mortality',\n",
      " 'coronavirus heart impacts',\n",
      " 'coronavirus hypertension',\n",
      " 'coronavirus diabetes',\n",
      " 'coronavirus biomarkers',\n",
      " 'coronavirus early symptoms',\n",
      " 'coronavirus asymptomatic',\n",
      " 'coronavirus hydroxychloroquine',\n",
      " 'coronavirus drug repurposing',\n",
      " 'coronavirus remdesivir',\n",
      " 'difference between coronavirus and flu',\n",
      " 'coronavirus subtypes',\n",
      " 'coronavirus vaccine candidates',\n",
      " 'coronavirus recovery',\n",
      " 'coronavirus public datasets']\n"
     ]
    }
   ],
   "source": [
    "queries = [x['query'] for x in topics]\n",
    "pprint.pprint(queries)"
   ]
  },
  {
   "cell_type": "markdown",
   "metadata": {},
   "source": [
    "## Submissions\n",
    "\n",
    "https://ir.nist.gov/covidSubmit/submission2.html\n",
    "\n",
    "### Submission format\n",
    "\n",
    "\n",
    "```\n",
    "topicid Q0 docid rank score run-tag\n",
    "```\n",
    "\n",
    "- `topicid` is a number from `0...35`\n",
    "- `rank` is the rank position of this document in the list -> ??\n",
    "- score is computed by the scoring system"
   ]
  },
  {
   "cell_type": "code",
   "execution_count": 35,
   "metadata": {},
   "outputs": [],
   "source": [
    "import pandas as pd\n",
    "from collections import OrderedDict\n",
    "\n",
    "def run_row(topicid, docid, rank, run_tag='0'):\n",
    "    return dict(topicid = topicid, docid = docid, rank = rank, run_tag=run_tag)\n",
    "\n",
    "df = pd.DataFrame([run_row(0, 'a', 1), run_row(1, 'b', 1)])"
   ]
  },
  {
   "cell_type": "code",
   "execution_count": 41,
   "metadata": {},
   "outputs": [],
   "source": [
    "OUT_PATH = './temp.tt'\n",
    "df.to_csv(OUT_PATH, index=None, sep=' ', header=None)"
   ]
  },
  {
   "cell_type": "code",
   "execution_count": 42,
   "metadata": {},
   "outputs": [
    {
     "name": "stdout",
     "output_type": "stream",
     "text": [
      "0 a 1 0\n",
      "1 b 1 0\n",
      "\n"
     ]
    }
   ],
   "source": [
    "with open(OUT_PATH) as f:\n",
    "    print(f.read())"
   ]
  }
 ],
 "metadata": {
  "kernelspec": {
   "display_name": "Python 3",
   "language": "python",
   "name": "python3"
  },
  "language_info": {
   "codemirror_mode": {
    "name": "ipython",
    "version": 3
   },
   "file_extension": ".py",
   "mimetype": "text/x-python",
   "name": "python",
   "nbconvert_exporter": "python",
   "pygments_lexer": "ipython3",
   "version": "3.7.4"
  }
 },
 "nbformat": 4,
 "nbformat_minor": 4
}
